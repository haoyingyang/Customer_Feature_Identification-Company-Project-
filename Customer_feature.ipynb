{
 "cells": [
  {
   "cell_type": "markdown",
   "metadata": {},
   "source": [
    "## Converted Customer Feature Analysis"
   ]
  },
  {
   "cell_type": "markdown",
   "metadata": {},
   "source": [
    "#### Data Cleaning"
   ]
  },
  {
   "cell_type": "code",
   "execution_count": 21,
   "metadata": {
    "collapsed": false,
    "deletable": true,
    "editable": true
   },
   "outputs": [
    {
     "data": {
      "text/html": [
       "<div>\n",
       "<style scoped>\n",
       "    .dataframe tbody tr th:only-of-type {\n",
       "        vertical-align: middle;\n",
       "    }\n",
       "\n",
       "    .dataframe tbody tr th {\n",
       "        vertical-align: top;\n",
       "    }\n",
       "\n",
       "    .dataframe thead th {\n",
       "        text-align: right;\n",
       "    }\n",
       "</style>\n",
       "<table border=\"1\" class=\"dataframe\">\n",
       "  <thead>\n",
       "    <tr style=\"text-align: right;\">\n",
       "      <th></th>\n",
       "      <th>Lead ID</th>\n",
       "      <th>Created Date</th>\n",
       "      <th>Weekdays</th>\n",
       "      <th>Lead Source</th>\n",
       "      <th>SEO Form</th>\n",
       "      <th>Lead Status</th>\n",
       "    </tr>\n",
       "  </thead>\n",
       "  <tbody>\n",
       "    <tr>\n",
       "      <th>0</th>\n",
       "      <td>00Q3400001tChd8</td>\n",
       "      <td>1/24/17</td>\n",
       "      <td>Tue</td>\n",
       "      <td>SEO</td>\n",
       "      <td>NaN</td>\n",
       "      <td>Qualified (converted)</td>\n",
       "    </tr>\n",
       "    <tr>\n",
       "      <th>1</th>\n",
       "      <td>00Q3400001vU8ow</td>\n",
       "      <td>5/19/17</td>\n",
       "      <td>Fri</td>\n",
       "      <td>NaN</td>\n",
       "      <td>NaN</td>\n",
       "      <td>Qualified (converted)</td>\n",
       "    </tr>\n",
       "    <tr>\n",
       "      <th>2</th>\n",
       "      <td>00Q3400001vUJRs</td>\n",
       "      <td>5/22/17</td>\n",
       "      <td>Mon</td>\n",
       "      <td>SEO</td>\n",
       "      <td>NaN</td>\n",
       "      <td>Qualified (converted)</td>\n",
       "    </tr>\n",
       "    <tr>\n",
       "      <th>3</th>\n",
       "      <td>00Q3400001wCznI</td>\n",
       "      <td>6/9/17</td>\n",
       "      <td>Fri</td>\n",
       "      <td>SEO</td>\n",
       "      <td>Advisory</td>\n",
       "      <td>Qualified (converted)</td>\n",
       "    </tr>\n",
       "    <tr>\n",
       "      <th>4</th>\n",
       "      <td>00Q3400001wrA3D</td>\n",
       "      <td>7/20/17</td>\n",
       "      <td>Thu</td>\n",
       "      <td>SEO</td>\n",
       "      <td>Advisory</td>\n",
       "      <td>Executive Seeking Opportunity</td>\n",
       "    </tr>\n",
       "  </tbody>\n",
       "</table>\n",
       "</div>"
      ],
      "text/plain": [
       "           Lead ID Created Date Weekdays Lead Source  SEO Form  \\\n",
       "0  00Q3400001tChd8      1/24/17      Tue         SEO       NaN   \n",
       "1  00Q3400001vU8ow      5/19/17      Fri         NaN       NaN   \n",
       "2  00Q3400001vUJRs      5/22/17      Mon         SEO       NaN   \n",
       "3  00Q3400001wCznI       6/9/17      Fri         SEO  Advisory   \n",
       "4  00Q3400001wrA3D      7/20/17      Thu         SEO  Advisory   \n",
       "\n",
       "                     Lead Status  \n",
       "0          Qualified (converted)  \n",
       "1          Qualified (converted)  \n",
       "2          Qualified (converted)  \n",
       "3          Qualified (converted)  \n",
       "4  Executive Seeking Opportunity  "
      ]
     },
     "execution_count": 21,
     "metadata": {},
     "output_type": "execute_result"
    }
   ],
   "source": [
    "import pandas as pd\n",
    "import numpy as np\n",
    "\n",
    "df=pd.DataFrame(pd.read_csv('lead source grouped.csv'))\n",
    "df.head()"
   ]
  },
  {
   "cell_type": "code",
   "execution_count": 22,
   "metadata": {
    "collapsed": true,
    "deletable": true,
    "editable": true
   },
   "outputs": [],
   "source": [
    "df['Qualified']= np.where(df[\"Lead Status\"]=='Qualified (converted)',1,0)"
   ]
  },
  {
   "cell_type": "code",
   "execution_count": 23,
   "metadata": {
    "collapsed": false,
    "deletable": true,
    "editable": true
   },
   "outputs": [],
   "source": [
    "import re\n",
    "Month = []\n",
    "for d in df['Created Date']:\n",
    "    m=re.match('(.+?)/', d)\n",
    "    Month.append(m.group(1))\n",
    "df['Month'] = Month"
   ]
  },
  {
   "cell_type": "code",
   "execution_count": 24,
   "metadata": {
    "collapsed": false,
    "deletable": true,
    "editable": true
   },
   "outputs": [],
   "source": [
    "reg=df.dropna(subset=['Lead Source']).reset_index(drop='True')"
   ]
  },
  {
   "cell_type": "markdown",
   "metadata": {},
   "source": [
    "#### Data Investigation "
   ]
  },
  {
   "cell_type": "code",
   "execution_count": 25,
   "metadata": {
    "collapsed": false,
    "deletable": true,
    "editable": true
   },
   "outputs": [],
   "source": [
    "from sklearn import preprocessing\n",
    "import matplotlib.pyplot as plt \n",
    "plt.rc(\"font\", size=14)\n",
    "from sklearn.linear_model import LogisticRegression\n",
    "#from sklearn.cross_validation import train_test_split\n",
    "\n",
    "import seaborn as sns\n",
    "sns.set(style=\"white\")\n",
    "sns.set(style=\"whitegrid\", color_codes=True)"
   ]
  },
  {
   "cell_type": "code",
   "execution_count": 26,
   "metadata": {
    "collapsed": false,
    "deletable": true,
    "editable": true
   },
   "outputs": [
    {
     "data": {
      "image/png": "[encoded data removed]",
      "text/plain": [
       "<matplotlib.figure.Figure at 0x128f30e10>"
      ]
     },
     "metadata": {},
     "output_type": "display_data"
    }
   ],
   "source": [
    "#reg['Qualified'].value_counts()\n",
    "sns.countplot(x='Qualified', data=reg, palette='hls')\n",
    "plt.show()"
   ]
  },
  {
   "cell_type": "code",
   "execution_count": 27,
   "metadata": {
    "collapsed": false,
    "deletable": true,
    "editable": true
   },
   "outputs": [
    {
     "name": "stdout",
     "output_type": "stream",
     "text": [
      "percentage of no qualified is 40.35087719298245\n",
      "percentage of qualified 59.64912280701754\n"
     ]
    }
   ],
   "source": [
    "count_no_qualified = len(reg[reg['Qualified']==0])\n",
    "count_qualified = len(reg[reg['Qualified']==1])\n",
    "pct_of_no_qua = count_no_qualified/(count_no_qualified+count_qualified)\n",
    "print(\"percentage of no qualified is\", pct_of_no_qua*100)\n",
    "pct_of_qua = count_qualified/(count_no_qualified+count_qualified)\n",
    "print(\"percentage of qualified\", pct_of_qua*100)"
   ]
  },
  {
   "cell_type": "code",
   "execution_count": 28,
   "metadata": {
    "collapsed": false,
    "deletable": true,
    "editable": true
   },
   "outputs": [
    {
     "data": {
      "text/plain": [
       "<matplotlib.text.Text at 0x12bc3ad68>"
      ]
     },
     "execution_count": 28,
     "metadata": {},
     "output_type": "execute_result"
    },
    {
     "data": {
      "image/png": "[encoded data removed]",
      "text/plain": [
       "<matplotlib.figure.Figure at 0x128e00198>"
      ]
     },
     "metadata": {},
     "output_type": "display_data"
    }
   ],
   "source": [
    "%matplotlib inline\n",
    "pd.crosstab(reg['Lead Source'],reg['Qualified']).plot(kind='bar')\n",
    "plt.title('Qualified Frequency for Lead Source')\n",
    "plt.xlabel('Lead Source')\n",
    "plt.ylabel('Frequency of Qualified')"
   ]
  },
  {
   "cell_type": "code",
   "execution_count": 29,
   "metadata": {
    "collapsed": false,
    "deletable": true,
    "editable": true
   },
   "outputs": [
    {
     "data": {
      "text/plain": [
       "<matplotlib.text.Text at 0x12b9cb278>"
      ]
     },
     "execution_count": 29,
     "metadata": {},
     "output_type": "execute_result"
    },
    {
     "data": {
      "image/png": "[encoded data removed]",
      "text/plain": [
       "<matplotlib.figure.Figure at 0x12b954128>"
      ]
     },
     "metadata": {},
     "output_type": "display_data"
    }
   ],
   "source": [
    "%matplotlib inline\n",
    "pd.crosstab(reg['Month'],reg['Qualified']).plot(kind='bar')\n",
    "plt.title('Qualified Frequency for Month')\n",
    "plt.xlabel('Month')\n",
    "plt.ylabel('Frequency of Qualified')"
   ]
  },
  {
   "cell_type": "markdown",
   "metadata": {},
   "source": [
    "#### Create Dummy Variables"
   ]
  },
  {
   "cell_type": "code",
   "execution_count": 30,
   "metadata": {
    "collapsed": false,
    "deletable": true,
    "editable": true,
    "scrolled": true
   },
   "outputs": [
    {
     "data": {
      "text/html": [
       "<div>\n",
       "<style scoped>\n",
       "    .dataframe tbody tr th:only-of-type {\n",
       "        vertical-align: middle;\n",
       "    }\n",
       "\n",
       "    .dataframe tbody tr th {\n",
       "        vertical-align: top;\n",
       "    }\n",
       "\n",
       "    .dataframe thead th {\n",
       "        text-align: right;\n",
       "    }\n",
       "</style>\n",
       "<table border=\"1\" class=\"dataframe\">\n",
       "  <thead>\n",
       "    <tr style=\"text-align: right;\">\n",
       "      <th></th>\n",
       "      <th>Lead ID</th>\n",
       "      <th>Created Date</th>\n",
       "      <th>Weekdays</th>\n",
       "      <th>Lead Source</th>\n",
       "      <th>SEO Form</th>\n",
       "      <th>Lead Status</th>\n",
       "      <th>Qualified</th>\n",
       "      <th>Month</th>\n",
       "    </tr>\n",
       "  </thead>\n",
       "  <tbody>\n",
       "    <tr>\n",
       "      <th>0</th>\n",
       "      <td>00Q3400001tChd8</td>\n",
       "      <td>1/24/17</td>\n",
       "      <td>Tue</td>\n",
       "      <td>SEO</td>\n",
       "      <td>NaN</td>\n",
       "      <td>Qualified (converted)</td>\n",
       "      <td>1</td>\n",
       "      <td>1</td>\n",
       "    </tr>\n",
       "    <tr>\n",
       "      <th>1</th>\n",
       "      <td>00Q3400001vUJRs</td>\n",
       "      <td>5/22/17</td>\n",
       "      <td>Mon</td>\n",
       "      <td>SEO</td>\n",
       "      <td>NaN</td>\n",
       "      <td>Qualified (converted)</td>\n",
       "      <td>1</td>\n",
       "      <td>5</td>\n",
       "    </tr>\n",
       "    <tr>\n",
       "      <th>2</th>\n",
       "      <td>00Q3400001wCznI</td>\n",
       "      <td>6/9/17</td>\n",
       "      <td>Fri</td>\n",
       "      <td>SEO</td>\n",
       "      <td>Advisory</td>\n",
       "      <td>Qualified (converted)</td>\n",
       "      <td>1</td>\n",
       "      <td>6</td>\n",
       "    </tr>\n",
       "    <tr>\n",
       "      <th>3</th>\n",
       "      <td>00Q3400001wrA3D</td>\n",
       "      <td>7/20/17</td>\n",
       "      <td>Thu</td>\n",
       "      <td>SEO</td>\n",
       "      <td>Advisory</td>\n",
       "      <td>Executive Seeking Opportunity</td>\n",
       "      <td>0</td>\n",
       "      <td>7</td>\n",
       "    </tr>\n",
       "    <tr>\n",
       "      <th>4</th>\n",
       "      <td>00Q3400001x9pSX</td>\n",
       "      <td>8/1/17</td>\n",
       "      <td>Tue</td>\n",
       "      <td>SEO</td>\n",
       "      <td>Contact Us</td>\n",
       "      <td>Qualified (converted)</td>\n",
       "      <td>1</td>\n",
       "      <td>8</td>\n",
       "    </tr>\n",
       "  </tbody>\n",
       "</table>\n",
       "</div>"
      ],
      "text/plain": [
       "           Lead ID Created Date Weekdays Lead Source    SEO Form  \\\n",
       "0  00Q3400001tChd8      1/24/17      Tue         SEO         NaN   \n",
       "1  00Q3400001vUJRs      5/22/17      Mon         SEO         NaN   \n",
       "2  00Q3400001wCznI       6/9/17      Fri         SEO    Advisory   \n",
       "3  00Q3400001wrA3D      7/20/17      Thu         SEO    Advisory   \n",
       "4  00Q3400001x9pSX       8/1/17      Tue         SEO  Contact Us   \n",
       "\n",
       "                     Lead Status  Qualified Month  \n",
       "0          Qualified (converted)          1     1  \n",
       "1          Qualified (converted)          1     5  \n",
       "2          Qualified (converted)          1     6  \n",
       "3  Executive Seeking Opportunity          0     7  \n",
       "4          Qualified (converted)          1     8  "
      ]
     },
     "execution_count": 30,
     "metadata": {},
     "output_type": "execute_result"
    }
   ],
   "source": [
    "reg.head()"
   ]
  },
  {
   "cell_type": "code",
   "execution_count": 14,
   "metadata": {
    "collapsed": false,
    "deletable": true,
    "editable": true
   },
   "outputs": [],
   "source": [
    "str(reg.Month)\n",
    "vars=['Month','Weekdays','Lead Source']\n",
    "for var in vars:\n",
    "    l='var'+'_'+var\n",
    "    l = pd.get_dummies(reg[var], prefix=var)\n",
    "    data=reg.join(l)\n",
    "    reg=data\n",
    "vars=['Month','Weekdays','Lead Source']\n",
    "data_vars=reg.columns.values.tolist()\n",
    "to_keep=[i for i in data_vars if i not in vars]\n",
    "reg_final=reg[to_keep]"
   ]
  },
  {
   "cell_type": "code",
   "execution_count": 15,
   "metadata": {
    "collapsed": false,
    "deletable": true,
    "editable": true
   },
   "outputs": [
    {
     "data": {
      "text/plain": [
       "array(['Lead ID', 'Created Date', 'SEO Form', 'Lead Status', 'Qualified',\n",
       "       'Month_1', 'Month_10', 'Month_11', 'Month_12', 'Month_2',\n",
       "       'Month_3', 'Month_4', 'Month_5', 'Month_6', 'Month_7', 'Month_8',\n",
       "       'Month_9', 'Weekdays_Fri', 'Weekdays_Mon', 'Weekdays_Sat',\n",
       "       'Weekdays_Sun', 'Weekdays_Thu', 'Weekdays_Tue', 'Weekdays_Wed',\n",
       "       'Lead Source_Advertisement', 'Lead Source_CEO Group',\n",
       "       'Lead Source_Event', 'Lead Source_Networking', 'Lead Source_Other',\n",
       "       'Lead Source_Personal Rolodex', 'Lead Source_Referral',\n",
       "       'Lead Source_SEO'], dtype=object)"
      ]
     },
     "execution_count": 15,
     "metadata": {},
     "output_type": "execute_result"
    }
   ],
   "source": [
    "reg_final.columns.values"
   ]
  },
  {
   "cell_type": "markdown",
   "metadata": {
    "deletable": true,
    "editable": true
   },
   "source": [
    "from sklearn.model_selection import train_test_split\n",
    "train, test = train_test_split(reg, test_size=0.2)\n",
    "train['Qualified'].value_counts()"
   ]
  },
  {
   "cell_type": "markdown",
   "metadata": {
    "deletable": true,
    "editable": true
   },
   "source": [
    "test['Qualified'].value_counts()"
   ]
  },
  {
   "cell_type": "markdown",
   "metadata": {},
   "source": [
    "#### Logistic Regressino"
   ]
  },
  {
   "cell_type": "code",
   "execution_count": 16,
   "metadata": {
    "collapsed": false,
    "deletable": true,
    "editable": true
   },
   "outputs": [
    {
     "name": "stderr",
     "output_type": "stream",
     "text": [
      "/Users/yanghaoying/Library/Enthought/Canopy/edm/envs/User/lib/python3.5/site-packages/statsmodels/compat/pandas.py:56: FutureWarning: The pandas.core.datetools module is deprecated and will be removed in a future version. Please use the pandas.tseries module instead.\n",
      "  from pandas.core import datetools\n"
     ]
    },
    {
     "name": "stdout",
     "output_type": "stream",
     "text": [
      "Optimization terminated successfully.\n",
      "         Current function value: 0.648976\n",
      "         Iterations 5\n",
      "                        Results: Logit\n",
      "===============================================================\n",
      "Model:              Logit            Pseudo R-squared: 0.038   \n",
      "Dependent Variable: Qualified        AIC:              615.8663\n",
      "Date:               2019-02-25 23:33 BIC:              665.3362\n",
      "No. Observations:   456              Log-Likelihood:   -295.93 \n",
      "Df Model:           11               LL-Null:          -307.53 \n",
      "Df Residuals:       444              LLR p-value:      0.016592\n",
      "Converged:          1.0000           Scale:            1.0000  \n",
      "No. Iterations:     5.0000                                     \n",
      "----------------------------------------------------------------\n",
      "              Coef.   Std.Err.     z     P>|z|    [0.025  0.975]\n",
      "----------------------------------------------------------------\n",
      "Month_1       1.2528    0.4009   3.1249  0.0018   0.4670  2.0385\n",
      "Month_10     -0.1092    0.2701  -0.4043  0.6860  -0.6386  0.4202\n",
      "Month_11      0.5108    0.4216   1.2115  0.2257  -0.3156  1.3372\n",
      "Month_12     -0.5878    0.5578  -1.0538  0.2920  -1.6810  0.5054\n",
      "Month_2       0.9491    0.3400   2.7915  0.0052   0.2827  1.6154\n",
      "Month_3       0.3567    0.2845   1.2536  0.2100  -0.2010  0.9143\n",
      "Month_4       0.6061    0.3589   1.6890  0.0912  -0.0972  1.3095\n",
      "Month_5       0.8979    0.3577   2.5104  0.0121   0.1969  1.5990\n",
      "Month_6       0.6931    0.3162   2.1919  0.0284   0.0734  1.3129\n",
      "Month_7      -0.1542    0.3212  -0.4799  0.6313  -0.7837  0.4754\n",
      "Month_8       0.0572    0.3382   0.1690  0.8658  -0.6057  0.7200\n",
      "Month_9       0.0953    0.3090   0.3085  0.7577  -0.5102  0.7009\n",
      "===============================================================\n",
      "\n"
     ]
    }
   ],
   "source": [
    "import statsmodels.api as sm\n",
    "variables=['Month_1', 'Month_10', 'Month_11', 'Month_12', 'Month_2',\n",
    "       'Month_3', 'Month_4', 'Month_5', 'Month_6', 'Month_7', 'Month_8',\n",
    "       'Month_9']\n",
    "y=reg_final.Qualified.copy()\n",
    "X = reg_final[variables]\n",
    "logit_model=sm.Logit(y,X)\n",
    "result=logit_model.fit()\n",
    "print(result.summary2())"
   ]
  },
  {
   "cell_type": "code",
   "execution_count": 18,
   "metadata": {
    "collapsed": false,
    "deletable": true,
    "editable": true
   },
   "outputs": [
    {
     "name": "stdout",
     "output_type": "stream",
     "text": [
      "Optimization terminated successfully.\n",
      "         Current function value: 0.661194\n",
      "         Iterations 4\n",
      "                        Results: Logit\n",
      "===============================================================\n",
      "Model:              Logit            Pseudo R-squared: 0.020   \n",
      "Dependent Variable: Qualified        AIC:              617.0087\n",
      "Date:               2019-02-25 23:34 BIC:              645.8661\n",
      "No. Observations:   456              Log-Likelihood:   -301.50 \n",
      "Df Model:           6                LL-Null:          -307.53 \n",
      "Df Residuals:       449              LLR p-value:      0.060817\n",
      "Converged:          1.0000           Scale:            1.0000  \n",
      "No. Iterations:     4.0000                                     \n",
      "---------------------------------------------------------------\n",
      "                  Coef.  Std.Err.    z    P>|z|   [0.025 0.975]\n",
      "---------------------------------------------------------------\n",
      "Weekdays_Fri      0.6190   0.2344  2.6409 0.0083  0.1596 1.0785\n",
      "Weekdays_Mon      0.4520   0.2162  2.0903 0.0366  0.0282 0.8758\n",
      "Weekdays_Sat     -0.5596   0.6268 -0.8928 0.3719 -1.7881 0.6689\n",
      "Weekdays_Sun     -0.5108   0.5164 -0.9892 0.3226 -1.5229 0.5013\n",
      "Weekdays_Thu      0.0211   0.2052  0.1026 0.9183 -0.3811 0.4233\n",
      "Weekdays_Tue      0.6436   0.2218  2.9011 0.0037  0.2088 1.0783\n",
      "Weekdays_Wed      0.6131   0.2435  2.5178 0.0118  0.1358 1.0904\n",
      "===============================================================\n",
      "\n"
     ]
    }
   ],
   "source": [
    "import statsmodels.api as sm\n",
    "variables=['Weekdays_Fri', 'Weekdays_Mon', 'Weekdays_Sat',\n",
    "       'Weekdays_Sun', 'Weekdays_Thu', 'Weekdays_Tue', 'Weekdays_Wed']\n",
    "y=reg_final.Qualified.copy()\n",
    "X = reg_final[variables]\n",
    "logit_model=sm.Logit(y,X)\n",
    "result=logit_model.fit()\n",
    "print(result.summary2())"
   ]
  },
  {
   "cell_type": "code",
   "execution_count": 20,
   "metadata": {
    "collapsed": false,
    "deletable": true,
    "editable": true
   },
   "outputs": [
    {
     "name": "stdout",
     "output_type": "stream",
     "text": [
      "Optimization terminated successfully.\n",
      "         Current function value: 0.614360\n",
      "         Iterations 6\n",
      "                           Results: Logit\n",
      "====================================================================\n",
      "Model:               Logit             Pseudo R-squared:  0.089     \n",
      "Dependent Variable:  Qualified         AIC:               580.2961  \n",
      "Date:                2019-02-26 09:06  BIC:               621.5211  \n",
      "No. Observations:    456               Log-Likelihood:    -280.15   \n",
      "Df Model:            9                 LL-Null:           -307.53   \n",
      "Df Residuals:        446               LLR p-value:       1.3504e-08\n",
      "Converged:           1.0000            Scale:             1.0000    \n",
      "No. Iterations:      6.0000                                         \n",
      "--------------------------------------------------------------------\n",
      "                      Coef.  Std.Err.    z    P>|z|   [0.025  0.975]\n",
      "--------------------------------------------------------------------\n",
      "Lead Source_Referral  1.4137   0.5038  2.8060 0.0050  0.4262  2.4012\n",
      "Lead Source_SEO      -0.6134   0.1893 -3.2400 0.0012 -0.9844 -0.2423\n",
      "Month_1               1.1427   0.4266  2.6788 0.0074  0.3066  1.9788\n",
      "Month_2               0.7484   0.3726  2.0084 0.0446  0.0180  1.4787\n",
      "Month_5               0.8305   0.3919  2.1191 0.0341  0.0624  1.5986\n",
      "Month_6               0.7521   0.3476  2.1639 0.0305  0.0709  1.4334\n",
      "Weekdays_Fri          0.7317   0.2933  2.4952 0.0126  0.1570  1.3065\n",
      "Weekdays_Tue          0.8456   0.2874  2.9421 0.0033  0.2823  1.4089\n",
      "Weekdays_Wed          0.6271   0.3068  2.0441 0.0409  0.0258  1.2284\n",
      "Weekdays_Mon          0.4906   0.2889  1.6981 0.0895 -0.0756  1.0568\n",
      "====================================================================\n",
      "\n"
     ]
    }
   ],
   "source": [
    "import statsmodels.api as sm\n",
    "variables=['Lead Source_Referral',\n",
    "       'Lead Source_SEO','Month_1','Month_2','Month_5','Month_6',\n",
    "           'Weekdays_Fri','Weekdays_Tue','Weekdays_Wed','Weekdays_Mon']\n",
    "y= reg_final.Qualified.copy()\n",
    "X = reg_final[variables]\n",
    "logit_model=sm.Logit(y,X)\n",
    "result=logit_model.fit()\n",
    "print(result.summary2())"
   ]
  },
  {
   "cell_type": "code",
   "execution_count": 158,
   "metadata": {
    "collapsed": false,
    "deletable": true,
    "editable": true
   },
   "outputs": [
    {
     "name": "stdout",
     "output_type": "stream",
     "text": [
      "Optimization terminated successfully.\n",
      "         Current function value: 0.617546\n",
      "         Iterations 6\n",
      "                           Results: Logit\n",
      "====================================================================\n",
      "Model:               Logit             Pseudo R-squared:  0.084     \n",
      "Dependent Variable:  Qualified         AIC:               581.2020  \n",
      "Date:                2019-02-17 16:19  BIC:               618.3044  \n",
      "No. Observations:    456               Log-Likelihood:    -281.60   \n",
      "Df Model:            8                 LL-Null:           -307.53   \n",
      "Df Residuals:        447               LLR p-value:       1.7921e-08\n",
      "Converged:           1.0000            Scale:             1.0000    \n",
      "No. Iterations:      6.0000                                         \n",
      "--------------------------------------------------------------------\n",
      "                      Coef.  Std.Err.    z    P>|z|   [0.025  0.975]\n",
      "--------------------------------------------------------------------\n",
      "Lead Source_Referral  1.6174   0.4893  3.3057 0.0009  0.6584  2.5763\n",
      "Lead Source_SEO      -0.4433   0.1584 -2.7980 0.0051 -0.7538 -0.1328\n",
      "Month_1               1.2035   0.4234  2.8422 0.0045  0.3736  2.0334\n",
      "Month_2               0.8231   0.3707  2.2203 0.0264  0.0965  1.5497\n",
      "Month_5               0.8674   0.3906  2.2210 0.0264  0.1019  1.6329\n",
      "Month_6               0.7704   0.3454  2.2307 0.0257  0.0935  1.4474\n",
      "Weekdays_Fri          0.5659   0.2755  2.0543 0.0399  0.0260  1.1058\n",
      "Weekdays_Tue          0.6718   0.2676  2.5103 0.0121  0.1473  1.1963\n",
      "Weekdays_Wed          0.4539   0.2888  1.5718 0.1160 -0.1121  1.0199\n",
      "====================================================================\n",
      "\n"
     ]
    }
   ],
   "source": [
    "import statsmodels.api as sm\n",
    "variables=['Lead Source_Referral',\n",
    "       'Lead Source_SEO','Month_1','Month_2','Month_5','Month_6',\n",
    "           'Weekdays_Fri','Weekdays_Tue','Weekdays_Wed',]\n",
    "y= reg_final.Qualified.copy()\n",
    "X = reg_final[variables]\n",
    "logit_model=sm.Logit(y,X)\n",
    "result=logit_model.fit()\n",
    "print(result.summary2())"
   ]
  },
  {
   "cell_type": "markdown",
   "metadata": {},
   "source": [
    "#### Results and ROC Curve"
   ]
  },
  {
   "cell_type": "code",
   "execution_count": 167,
   "metadata": {
    "collapsed": false,
    "deletable": true,
    "editable": true,
    "scrolled": true
   },
   "outputs": [
    {
     "name": "stderr",
     "output_type": "stream",
     "text": [
      "/Users/yanghaoying/Library/Enthought/Canopy/edm/envs/User/lib/python3.5/site-packages/sklearn/linear_model/logistic.py:432: FutureWarning: Default solver will be changed to 'lbfgs' in 0.22. Specify a solver to silence this warning.\n",
      "  FutureWarning)\n"
     ]
    },
    {
     "data": {
      "text/plain": [
       "LogisticRegression(C=1.0, class_weight=None, dual=False, fit_intercept=True,\n",
       "          intercept_scaling=1, max_iter=100, multi_class='warn',\n",
       "          n_jobs=None, penalty='l2', random_state=None, solver='warn',\n",
       "          tol=0.0001, verbose=0, warm_start=False)"
      ]
     },
     "execution_count": 167,
     "metadata": {},
     "output_type": "execute_result"
    }
   ],
   "source": [
    "from sklearn.linear_model import LogisticRegression\n",
    "from sklearn import metrics\n",
    "X_train, X_test, y_train, y_test = train_test_split(X, y, test_size=0.2, random_state=0)\n",
    "logreg = LogisticRegression()\n",
    "logreg.fit(X_train, y_train)"
   ]
  },
  {
   "cell_type": "code",
   "execution_count": 168,
   "metadata": {
    "collapsed": false,
    "deletable": true,
    "editable": true
   },
   "outputs": [
    {
     "name": "stdout",
     "output_type": "stream",
     "text": [
      "Accuracy of logistic regression classifier on test set: 0.62\n"
     ]
    }
   ],
   "source": [
    "y_pred = logreg.predict(X_test)\n",
    "print('Accuracy of logistic regression classifier on test set: {:.2f}'.format(logreg.score(X_test, y_test)))"
   ]
  },
  {
   "cell_type": "code",
   "execution_count": 169,
   "metadata": {
    "collapsed": false,
    "deletable": true,
    "editable": true
   },
   "outputs": [
    {
     "name": "stdout",
     "output_type": "stream",
     "text": [
      "[[19 11]\n",
      " [24 38]]\n"
     ]
    }
   ],
   "source": [
    "from sklearn.metrics import confusion_matrix\n",
    "confusion_matrix = confusion_matrix(y_test, y_pred)\n",
    "print(confusion_matrix)"
   ]
  },
  {
   "cell_type": "code",
   "execution_count": 170,
   "metadata": {
    "collapsed": false,
    "deletable": true,
    "editable": true
   },
   "outputs": [
    {
     "name": "stdout",
     "output_type": "stream",
     "text": [
      "              precision    recall  f1-score   support\n",
      "\n",
      "           0       0.44      0.63      0.52        30\n",
      "           1       0.78      0.61      0.68        62\n",
      "\n",
      "   micro avg       0.62      0.62      0.62        92\n",
      "   macro avg       0.61      0.62      0.60        92\n",
      "weighted avg       0.67      0.62      0.63        92\n",
      "\n"
     ]
    }
   ],
   "source": [
    "from sklearn.metrics import classification_report\n",
    "print(classification_report(y_test, y_pred))"
   ]
  },
  {
   "cell_type": "code",
   "execution_count": 171,
   "metadata": {
    "collapsed": false,
    "deletable": true,
    "editable": true
   },
   "outputs": [
    {
     "data": {
      "image/png": "[encoded data removed]",
      "text/plain": [
       "<matplotlib.figure.Figure at 0x13b4e5d30>"
      ]
     },
     "metadata": {},
     "output_type": "display_data"
    }
   ],
   "source": [
    "from sklearn.metrics import roc_auc_score\n",
    "from sklearn.metrics import roc_curve\n",
    "logit_roc_auc = roc_auc_score(y_test, logreg.predict(X_test))\n",
    "fpr, tpr, thresholds = roc_curve(y_test, logreg.predict_proba(X_test)[:,1])\n",
    "plt.figure()\n",
    "plt.plot(fpr, tpr, label='Logistic Regression (area = %0.2f)' % logit_roc_auc)\n",
    "plt.plot([0, 1], [0, 1],'r--')\n",
    "plt.xlim([0.0, 1.0])\n",
    "plt.ylim([0.0, 1.05])\n",
    "plt.xlabel('False Positive Rate')\n",
    "plt.ylabel('True Positive Rate')\n",
    "plt.title('Receiver operating characteristic')\n",
    "plt.legend(loc=\"lower right\")\n",
    "plt.savefig('Log_ROC')\n",
    "plt.show()"
   ]
  }
 ],
 "metadata": {
  "kernelspec": {
   "display_name": "Python 3",
   "language": "python",
   "name": "python3"
  },
  "language_info": {
   "codemirror_mode": {
    "name": "ipython",
    "version": 3
   },
   "file_extension": ".py",
   "mimetype": "text/x-python",
   "name": "python",
   "nbconvert_exporter": "python",
   "pygments_lexer": "ipython3",
   "version": "3.5.2"
  }
 },
 "nbformat": 4,
 "nbformat_minor": 2
}
